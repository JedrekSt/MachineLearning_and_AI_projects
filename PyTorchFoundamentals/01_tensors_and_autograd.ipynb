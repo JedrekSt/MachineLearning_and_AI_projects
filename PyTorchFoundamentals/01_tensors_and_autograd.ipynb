{
 "cells": [
  {
   "cell_type": "code",
   "execution_count": 2,
   "metadata": {},
   "outputs": [],
   "source": [
    "import torch\n",
    "import numpy as np\n",
    "import matplotlib.pyplot as plt"
   ]
  },
  {
   "cell_type": "code",
   "execution_count": 3,
   "metadata": {},
   "outputs": [
    {
     "name": "stdout",
     "output_type": "stream",
     "text": [
      "t1 :  tensor([1., 2., 3.], dtype=torch.float64)\n",
      "t2 :  tensor([4., 5., 6.], dtype=torch.float64)\n",
      "t1 + t2 tensor([5., 7., 9.], dtype=torch.float64)\n"
     ]
    }
   ],
   "source": [
    "t1 = torch.tensor([1,2,3],dtype = torch.float64)\n",
    "t2 = torch.tensor([4,5,6],dtype = torch.float64)\n",
    "\n",
    "print(\"t1 : \",t1)\n",
    "print(\"t2 : \",t2)\n",
    "print(\"t1 + t2\" , t1 + t2)"
   ]
  },
  {
   "cell_type": "code",
   "execution_count": 4,
   "metadata": {},
   "outputs": [
    {
     "name": "stdout",
     "output_type": "stream",
     "text": [
      "ones: \n",
      " tensor([[1., 1., 1., 1.],\n",
      "        [1., 1., 1., 1.],\n",
      "        [1., 1., 1., 1.]], dtype=torch.float64)\n",
      "zeros: \n",
      " tensor([[0., 0., 0., 0.],\n",
      "        [0., 0., 0., 0.],\n",
      "        [0., 0., 0., 0.]], dtype=torch.float64)\n",
      "random tensor: \n",
      " tensor([[ 0.9120, -0.1079,  1.3206, -0.8667],\n",
      "        [ 0.9217, -0.4554,  0.8836,  1.3580],\n",
      "        [ 0.9007, -1.4048, -1.4901,  0.7035]], dtype=torch.float64)\n"
     ]
    }
   ],
   "source": [
    "one_tsr = torch.ones((3,4),dtype = torch.float64)\n",
    "print(\"ones: \\n\",one_tsr)\n",
    "\n",
    "zero_tsr = torch.zeros((3,4),dtype = torch.float64)\n",
    "print(\"zeros: \\n\",zero_tsr)\n",
    "\n",
    "random_tsr = torch.randn((3,4),dtype = torch.float64)\n",
    "print(\"random tensor: \\n\",random_tsr)"
   ]
  },
  {
   "cell_type": "code",
   "execution_count": 5,
   "metadata": {},
   "outputs": [
    {
     "name": "stdout",
     "output_type": "stream",
     "text": [
      "tensor([1.3000])\n",
      "1.2999999523162842\n"
     ]
    }
   ],
   "source": [
    "tsr1 = torch.tensor([1.3])\n",
    "print(tsr1)\n",
    "print(tsr1.item())"
   ]
  },
  {
   "cell_type": "code",
   "execution_count": 6,
   "metadata": {},
   "outputs": [
    {
     "name": "stdout",
     "output_type": "stream",
     "text": [
      "tensor([[1.+0.j, 2.+0.j],\n",
      "        [4.+0.j, 5.+0.j]])\n",
      "[[1.+0.j 2.+0.j]\n",
      " [4.+0.j 5.+0.j]]\n"
     ]
    }
   ],
   "source": [
    "AA = np.array([\n",
    "    [1,2],\n",
    "    [4,5]\n",
    "])\n",
    "\n",
    "tsr_np = torch.tensor(AA,dtype = torch.complex64)\n",
    "print(tsr_np)\n",
    "\n",
    "AA_from_torch = tsr_np.numpy()\n",
    "print(AA_from_torch)"
   ]
  },
  {
   "cell_type": "code",
   "execution_count": 7,
   "metadata": {},
   "outputs": [
    {
     "name": "stdout",
     "output_type": "stream",
     "text": [
      "A: \n",
      " tensor([[-0.0139,  0.0429, -1.1867, -1.1456],\n",
      "        [ 0.8541, -0.0990, -0.4190, -0.3383],\n",
      "        [ 0.8954,  0.2461,  1.1103,  0.5125]], dtype=torch.float64)\n",
      "x: \n",
      " tensor([1.0509, 0.0557, 0.1081, 1.4068], dtype=torch.float64)\n",
      "Ax : \n",
      " tensor([-1.7521,  0.3709,  1.7957], dtype=torch.float64)\n",
      "sum(Ax): \n",
      " 0.4144267923927001\n"
     ]
    }
   ],
   "source": [
    "A = torch.randn((3,4),dtype = torch.float64)\n",
    "x = torch.randn(4,dtype = torch.float64)\n",
    "\n",
    "print(\"A: \\n\",A)\n",
    "print(\"x: \\n\",x)\n",
    "print(\"Ax : \\n\",torch.matmul(A,x))\n",
    "print(\"sum(Ax): \\n\", torch.matmul(A,x).sum().item())"
   ]
  },
  {
   "cell_type": "code",
   "execution_count": 8,
   "metadata": {},
   "outputs": [
    {
     "name": "stdout",
     "output_type": "stream",
     "text": [
      "mean value of  tensor: \n",
      " tensor(0.4940, dtype=torch.float64)\n",
      "mean value of tensor: \n",
      " tensor(0.0232, dtype=torch.float64)\n"
     ]
    }
   ],
   "source": [
    "b = torch.rand(1000,dtype = torch.float64) #uniformly distributed data\n",
    "print(\"mean value of  tensor: \\n\",b.mean())\n",
    "\n",
    "b = torch.randn(1000,dtype = torch.float64) #normally distributed data\n",
    "print(\"mean value of tensor: \\n\",b.mean())"
   ]
  },
  {
   "cell_type": "code",
   "execution_count": 9,
   "metadata": {},
   "outputs": [
    {
     "name": "stdout",
     "output_type": "stream",
     "text": [
      "c: \n",
      " tensor([[0.3703, 0.1269, 0.9972, 0.4195],\n",
      "        [0.5951, 0.0221, 0.1322, 0.2591],\n",
      "        [0.2554, 0.7447, 0.9095, 0.6000]])\n",
      "c.t(): \n",
      " tensor([[0.3703, 0.5951, 0.2554],\n",
      "        [0.1269, 0.0221, 0.7447],\n",
      "        [0.9972, 0.1322, 0.9095],\n",
      "        [0.4195, 0.2591, 0.6000]])\n",
      "c^2 : \n",
      " tensor([[1.3709e-01, 1.6100e-02, 9.9448e-01, 1.7598e-01],\n",
      "        [3.5409e-01, 4.8841e-04, 1.7470e-02, 6.7156e-02],\n",
      "        [6.5221e-02, 5.5451e-01, 8.2711e-01, 3.5995e-01]])\n",
      "trace of the tensor: \n",
      " tensor(1.9179)\n"
     ]
    }
   ],
   "source": [
    "c = torch.rand((3,4))\n",
    "print(\"c: \\n\",c)\n",
    "print(\"c.t(): \\n\",c.t())\n",
    "print(\"c^2 : \\n\",c.pow(2))\n",
    "\n",
    "b = torch.rand((3,3))\n",
    "print(\"trace of the tensor: \\n\", b.trace())"
   ]
  },
  {
   "cell_type": "code",
   "execution_count": 11,
   "metadata": {},
   "outputs": [
    {
     "name": "stdout",
     "output_type": "stream",
     "text": [
      "basis element 1 : \n",
      " tensor([1., 0., 0., 0., 0.])\n",
      "basis element 2 : \n",
      " tensor([0., 1., 0., 0., 0.])\n",
      "basis element 3 : \n",
      " tensor([0., 0., 1., 0., 0.])\n",
      "basis element 4 : \n",
      " tensor([0., 0., 0., 1., 0.])\n",
      "basis element 5 : \n",
      " tensor([0., 0., 0., 0., 1.])\n"
     ]
    }
   ],
   "source": [
    "#scatter function to create tensor filled with ones\n",
    "\n",
    "n = 5\n",
    "basis = [torch.zeros(n,dtype = torch.float).scatter_(0,torch.tensor([i]),value = 1) for i in range(n)]\n",
    "for i in range(n):\n",
    "    print(f\"basis element {i + 1} : \\n\",basis[i])"
   ]
  },
  {
   "cell_type": "code",
   "execution_count": 12,
   "metadata": {},
   "outputs": [
    {
     "data": {
      "image/png": "[encoded data removed]",
      "text/plain": [
       "<Figure size 300x200 with 1 Axes>"
      ]
     },
     "metadata": {},
     "output_type": "display_data"
    }
   ],
   "source": [
    "x = torch.arange(0,10,0.01,requires_grad = True)\n",
    "y = torch.sin(x)\n",
    "\n",
    "y.sum().backward()\n",
    "\n",
    "fig = plt.figure(figsize = (3,2))\n",
    "ax = fig.add_subplot()\n",
    "ax.grid(True)\n",
    "ax.set_xlabel(\"x\")\n",
    "ax.set_ylabel(\"y\")\n",
    "\n",
    "with torch.no_grad():\n",
    "    ax.plot(x,y,color = \"red\",alpha = 0.5,lw = 3,label = \"f\")\n",
    "    ax.plot(x,x.grad,color = \"blue\",alpha = 0.5,lw = 3,label = \"f'\")\n",
    "plt.legend()\n",
    "plt.show()"
   ]
  },
  {
   "cell_type": "code",
   "execution_count": 13,
   "metadata": {},
   "outputs": [
    {
     "data": {
      "image/png": "[encoded data removed]",
      "text/plain": [
       "<Figure size 300x200 with 1 Axes>"
      ]
     },
     "metadata": {},
     "output_type": "display_data"
    }
   ],
   "source": [
    "x = torch.arange(-5,5,0.1,requires_grad = True)\n",
    "y = - x ** 2\n",
    "\n",
    "y_ = y.detach()\n",
    "y_.requires_grad_(True)\n",
    "\n",
    "z = torch.exp(y_)\n",
    "\n",
    "z.sum().backward()\n",
    "y.sum().backward()\n",
    "\n",
    "\n",
    "fig = plt.figure(figsize = (3,2))\n",
    "ax = fig.add_subplot()\n",
    "ax.set_xlabel(\"x\")\n",
    "ax.set_ylabel(\"y\")\n",
    "ax.grid(True)\n",
    "\n",
    "# another way to reobtain numerical values from tensor \n",
    "# which requires grad is to open inference mode\n",
    "with torch.inference_mode(): \n",
    "    ax.plot(x,z,color = \"red\",alpha = 0.5,lw = 3,label = \"f\")\n",
    "    ax.plot(x,x.grad * y_.grad,color = \"blue\",alpha = 0.5,lw = 3,label = \"f'\")\n",
    "plt.legend()\n",
    "plt.show()\n",
    "\n",
    "#We can use x one more time by zeroing gradient\n",
    "\n",
    "x.grad.zero_()\n",
    "y2 = torch.sin(x)\n",
    "y2.sum().backward()"
   ]
  }
 ],
 "metadata": {
  "kernelspec": {
   "display_name": "d2l",
   "language": "python",
   "name": "python3"
  },
  "language_info": {
   "codemirror_mode": {
    "name": "ipython",
    "version": 3
   },
   "file_extension": ".py",
   "mimetype": "text/x-python",
   "name": "python",
   "nbconvert_exporter": "python",
   "pygments_lexer": "ipython3",
   "version": "3.9.20"
  }
 },
 "nbformat": 4,
 "nbformat_minor": 2
}
