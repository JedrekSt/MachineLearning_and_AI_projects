{
 "cells": [
  {
   "cell_type": "code",
   "execution_count": 154,
   "metadata": {},
   "outputs": [],
   "source": [
    "import torch\n",
    "import numpy as np\n",
    "import matplotlib.pyplot as plt"
   ]
  },
  {
   "cell_type": "code",
   "execution_count": 155,
   "metadata": {},
   "outputs": [],
   "source": [
    "from torch import nn"
   ]
  },
  {
   "cell_type": "code",
   "execution_count": 156,
   "metadata": {},
   "outputs": [],
   "source": [
    "from torch.utils.data import Dataset\n",
    "from torchvision.transforms import ToTensor \n",
    "from torch.utils.data import DataLoader"
   ]
  },
  {
   "cell_type": "markdown",
   "metadata": {},
   "source": [
    "<h3>Generating datapoints</h3>"
   ]
  },
  {
   "cell_type": "code",
   "execution_count": 184,
   "metadata": {},
   "outputs": [
    {
     "name": "stdout",
     "output_type": "stream",
     "text": [
      "torch.Size([35])\n",
      "torch.Size([16])\n"
     ]
    }
   ],
   "source": [
    "# generating data points \n",
    "\n",
    "torch.manual_seed(42)\n",
    "\n",
    "x_data = torch.randn(51)\n",
    "n = 4\n",
    "weights = torch.randn(5)\n",
    "y_data = sum([weights[i] * x_data.pow(i) for i in range(n)]) \n",
    "\n",
    "x_data += torch.randn_like(x_data) * 0.2\n",
    "y_data += torch.randn_like(y_data) * 0.2\n",
    "\n",
    "size_train = int(0.7 * len(x_data))\n",
    "rng = np.random.default_rng(seed = 42)\n",
    "perm = rng.permutation(len(x_data))\n",
    "\n",
    "train_x = x_data[perm[:size_train]]\n",
    "train_y = y_data[perm[:size_train]]\n",
    "test_x = x_data[perm[size_train:]]\n",
    "test_y = y_data[perm[size_train:]]\n",
    "\n",
    "print(train_x.shape)\n",
    "print(test_x.shape)"
   ]
  },
  {
   "cell_type": "code",
   "execution_count": 185,
   "metadata": {},
   "outputs": [
    {
     "data": {
      "image/png": "[encoded data removed]",
      "text/plain": [
       "<Figure size 400x300 with 1 Axes>"
      ]
     },
     "metadata": {},
     "output_type": "display_data"
    }
   ],
   "source": [
    "fig = plt.figure(figsize=(4,3))\n",
    "ax = fig.add_subplot()\n",
    "ax.set_xlabel(\"x\")\n",
    "ax.set_ylabel(\"y\")\n",
    "ax.grid(True)\n",
    "ax.scatter(train_x,train_y,color = \"blue\",alpha = 0.5,label = \"train points\")\n",
    "ax.scatter(test_x,test_y,color = \"red\",alpha = 0.5,label = \"test points\")\n",
    "ax.legend()\n",
    "plt.show()"
   ]
  },
  {
   "cell_type": "markdown",
   "metadata": {},
   "source": [
    "<h3>Building dataset and dataloader</h3>"
   ]
  },
  {
   "cell_type": "code",
   "execution_count": 186,
   "metadata": {},
   "outputs": [],
   "source": [
    "# customizing dataset\n",
    "\n",
    "class PolyDS(Dataset):\n",
    "    def __init__(self,x_data_set,y_data_set,transform = None,target_transform = None):\n",
    "        assert len(x_data_set) == len(y_data_set), \"input and target are not of the same size\"\n",
    "        self.points = x_data_set.reshape(-1,1)\n",
    "        self.output_points = y_data_set.reshape(-1,1)\n",
    "        self.transform = transform \n",
    "        self.target_transform = target_transform\n",
    "\n",
    "    def get_data(self):\n",
    "        return self.points, self.output_points\n",
    "\n",
    "    def __len__(self):\n",
    "        return len(self.points)\n",
    "\n",
    "    def __getitem__(self, index):\n",
    "        assert index < self.__len__(), \"index out of range\"\n",
    "        x_point = self.points[index]\n",
    "        y_point = self.output_points[index]\n",
    "        if self.transform:\n",
    "            x_point = self.transform(x_point)\n",
    "        if self.target_transform:\n",
    "            y_point = self.target_transform(y_point)\n",
    "        return x_point,y_point"
   ]
  },
  {
   "cell_type": "code",
   "execution_count": 187,
   "metadata": {},
   "outputs": [
    {
     "name": "stdout",
     "output_type": "stream",
     "text": [
      "length of the datapoints train:  35\n",
      "5th element of the dataset train:  (tensor([-0.6615]), tensor([-0.8845]))\n",
      "length of the datapoints test:  16\n",
      "5th element of the dataset test:  (tensor([0.2385]), tensor([-1.4230]))\n"
     ]
    }
   ],
   "source": [
    "ds_train = PolyDS(train_x,train_y)\n",
    "ds_test = PolyDS(test_x,test_y)\n",
    "\n",
    "print(\"length of the datapoints train: \",ds_train.__len__())\n",
    "print(\"5th element of the dataset train: \",ds_train.__getitem__(5))\n",
    "\n",
    "print(\"length of the datapoints test: \",ds_test.__len__())\n",
    "print(\"5th element of the dataset test: \",ds_test.__getitem__(5))"
   ]
  },
  {
   "cell_type": "code",
   "execution_count": 188,
   "metadata": {},
   "outputs": [],
   "source": [
    "train_dl = DataLoader(ds_train, batch_size = 5, shuffle = True)\n",
    "test_dl = DataLoader(ds_test, batch_size = 5,shuffle = True)"
   ]
  },
  {
   "cell_type": "code",
   "execution_count": 189,
   "metadata": {},
   "outputs": [
    {
     "name": "stdout",
     "output_type": "stream",
     "text": [
      "35\n",
      "16\n"
     ]
    }
   ],
   "source": [
    "# one could restore the dataset info form dataloader\n",
    "\n",
    "print(train_dl.dataset.__len__())\n",
    "print(test_dl.dataset.__len__())"
   ]
  },
  {
   "cell_type": "markdown",
   "metadata": {},
   "source": [
    "<h3>Building model</h3>"
   ]
  },
  {
   "cell_type": "code",
   "execution_count": 190,
   "metadata": {},
   "outputs": [],
   "source": [
    "class LinearModel(nn.Module):\n",
    "    def __init__(self):\n",
    "        super().__init__()\n",
    "        self.flattering_layer = nn.Flatten()\n",
    "        self.inner_layers = nn.Sequential(\n",
    "            nn.Linear(1,16),\n",
    "            nn.ReLU(),\n",
    "            nn.Linear(16,16),\n",
    "            nn.ReLU(),\n",
    "            nn.Linear(16,1)\n",
    "        )\n",
    "    \n",
    "    def forward(self,x):\n",
    "        x = self.flattering_layer(x)\n",
    "        x = self.inner_layers(x)\n",
    "        return x"
   ]
  },
  {
   "cell_type": "code",
   "execution_count": 191,
   "metadata": {},
   "outputs": [],
   "source": [
    "def training_loop(dataload, model,loss,optimizer):\n",
    "    size = dataload.dataset.__len__()\n",
    "\n",
    "    for batch,(X,y) in enumerate(dataload):\n",
    "        predict = model(X)\n",
    "        loss_val = loss(predict,y)\n",
    "\n",
    "        loss_val.backward()\n",
    "        optimizer.step()\n",
    "        optimizer.zero_grad()\n",
    "\n",
    "        if batch % 5 == 0:\n",
    "            loss_val = loss_val.item()\n",
    "            step = batch + batch * len(X)\n",
    "            #print(f\"loss function value: {loss}, step: {step}/{size}\")\n",
    "\n",
    "def testing_loop(dataloader,model,loss):\n",
    "    batches = len(dataloader)\n",
    "    MSE = 0.\n",
    "    for batch,(X,y) in enumerate(dataloader):\n",
    "        with torch.no_grad():\n",
    "            predict = model(X)\n",
    "            MSE += loss(predict,y)\n",
    "    #print(f\"averaged MSE: {MSE / batches}\")\n",
    "    return MSE / batches"
   ]
  },
  {
   "cell_type": "code",
   "execution_count": 192,
   "metadata": {},
   "outputs": [
    {
     "name": "stdout",
     "output_type": "stream",
     "text": [
      "Epoch 1/1001\n",
      "mse value: 3.891815185546875\n",
      "Epoch 101/1001\n",
      "mse value: 2.7486231327056885\n",
      "Epoch 201/1001\n",
      "mse value: 2.153597116470337\n",
      "Epoch 301/1001\n",
      "mse value: 3.068326950073242\n",
      "Epoch 401/1001\n",
      "mse value: 1.2905484437942505\n",
      "Epoch 501/1001\n",
      "mse value: 1.1266024112701416\n",
      "Epoch 601/1001\n",
      "mse value: 2.1595041751861572\n",
      "Epoch 701/1001\n",
      "mse value: 1.0746451616287231\n",
      "Epoch 801/1001\n",
      "mse value: 1.0410091876983643\n",
      "Epoch 901/1001\n",
      "mse value: 1.0684123039245605\n",
      "Epoch 1001/1001\n",
      "mse value: 1.0533008575439453\n"
     ]
    }
   ],
   "source": [
    "lr = 1e-3\n",
    "epochs = 1001\n",
    "\n",
    "model = LinearModel()\n",
    "loss = nn.MSELoss()\n",
    "optimizer = torch.optim.SGD(model.parameters(),lr = lr)\n",
    "\n",
    "for epoch in range(epochs):\n",
    "    training_loop(train_dl,model,loss,optimizer)\n",
    "    mse = testing_loop(test_dl,model,loss)\n",
    "    if epoch % 100 == 0:\n",
    "        print(f\"Epoch {epoch + 1}/{epochs}\")\n",
    "        print(f\"mse value: {mse}\")\n"
   ]
  },
  {
   "cell_type": "code",
   "execution_count": 193,
   "metadata": {},
   "outputs": [],
   "source": [
    "xx = torch.arange(-2.7,2.7,0.1).reshape(-1,1)\n",
    "with torch.inference_mode():\n",
    "    pred = model(xx).flatten()\n",
    "    "
   ]
  },
  {
   "cell_type": "code",
   "execution_count": 194,
   "metadata": {},
   "outputs": [
    {
     "data": {
      "image/png": "[encoded data removed]",
      "text/plain": [
       "<Figure size 400x300 with 1 Axes>"
      ]
     },
     "metadata": {},
     "output_type": "display_data"
    }
   ],
   "source": [
    "fig = plt.figure(figsize=(4,3))\n",
    "ax = fig.add_subplot()\n",
    "ax.set_xlabel(\"x\")\n",
    "ax.set_ylabel(\"y\")\n",
    "ax.grid(True)\n",
    "ax.scatter(train_x,train_y,color = \"blue\",alpha = 0.5,s = 8,label = \"train points\")\n",
    "ax.scatter(test_x,test_y,color = \"red\",alpha = 0.5,s = 8,label = \"test points\")\n",
    "ax.plot(xx,pred,color = \"orange\",alpha = 0.9,lw = 2,label = \"fitted line\")\n",
    "ax.legend()\n",
    "plt.show()"
   ]
  }
 ],
 "metadata": {
  "kernelspec": {
   "display_name": "d2l",
   "language": "python",
   "name": "python3"
  },
  "language_info": {
   "codemirror_mode": {
    "name": "ipython",
    "version": 3
   },
   "file_extension": ".py",
   "mimetype": "text/x-python",
   "name": "python",
   "nbconvert_exporter": "python",
   "pygments_lexer": "ipython3",
   "version": "3.9.20"
  }
 },
 "nbformat": 4,
 "nbformat_minor": 2
}
