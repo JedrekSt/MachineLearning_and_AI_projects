{
 "cells": [
  {
   "cell_type": "code",
   "execution_count": 1,
   "metadata": {},
   "outputs": [],
   "source": [
    "import numpy as np\n",
    "import matplotlib.pyplot as plt\n",
    "from FlowControl import add_to_class\n",
    "from pandas import DataFrame,Series"
   ]
  },
  {
   "cell_type": "markdown",
   "metadata": {},
   "source": [
    "<h1>Naive Bayes classifier</h1>"
   ]
  },
  {
   "cell_type": "markdown",
   "metadata": {},
   "source": [
    "<h2>1. Theoretical introduction</h2>"
   ]
  },
  {
   "cell_type": "markdown",
   "metadata": {},
   "source": [
    "<h3>1.1 Naive Bayse assumption</h3>"
   ]
  },
  {
   "cell_type": "markdown",
   "metadata": {},
   "source": [
    "Let's suppose that we are given a data set $\\{(\\vec{x}^{(i)},y^{(i)})\\}_{i=1}^{n}$ in which $\\vec{x}^{(i)}$ is a vector of $d$ components. Each component $x_{k}^{(i)}\\in \\{0,1,\\ldots,K_{k}\\}$. "
   ]
  },
  {
   "cell_type": "markdown",
   "metadata": {},
   "source": [
    "Our goal is to find $p(y|\\vec{x})$. In order to obtain this we wish to find reversed conditional distributions and probability of occurence certain value of $y$."
   ]
  },
  {
   "cell_type": "markdown",
   "metadata": {},
   "source": [
    "**Naive Bayes assumption** is the following: **Occurence of different events $x_{k}$ is conditionaly indepenedent of given $y$**. This means that:\n",
    "$$\n",
    "p(x_{j}|y) = p(x_{j}|y,x_{k}) \\hspace{1cm} j\\neq k\n",
    "$$"
   ]
  },
  {
   "cell_type": "markdown",
   "metadata": {},
   "source": [
    "We can use the above condition for evalutaing total probability distribution. First, let's see that $p(\\vec{x}|y)$ can be factorize:\n",
    "$$\n",
    "p(x_{1}|y)p(x_{2}|y,x_{1})\\ldots p(x_{d}|y,x_{1}\\ldots x_{d-1}) = \n",
    "\\frac{p(x_{1}\\wedge y)}{p(y)}\\frac{p(x_{1}\\wedge x_{2}\\wedge y)}{p(x_{1}\\wedge y)}\\ldots \\frac{p(x_{1}\\wedge \\ldots \\wedge x_{d}\\wedge y)}{p(x_{1}\\wedge \\ldots \\wedge x_{d-1}\\wedge y)} = \\frac{p(x_{1}\\wedge \\ldots \\wedge x_{d}\\wedge y)}{p(y)}\n",
    "$$\n",
    "$$\n",
    "p(\\vec{x}|y) = p(x_{1}|y)p(x_{2}|y,x_{1})\\ldots p(x_{d}|y,x_{1}\\ldots x_{d-1})\n",
    "$$\n",
    "Then, applying our NB assumption, one should obtain:\n",
    "$$\n",
    "p(\\vec{x}|y) = \\prod_{k=1}^{d}p(x_{k}|y)\n",
    "$$"
   ]
  },
  {
   "cell_type": "markdown",
   "metadata": {},
   "source": [
    "Given training dataset we can estimate conditional probability distributions by calculating conditional frequencies of occurece.\n",
    "$$\n",
    "p(x_{k} = p|y = q) = \\frac{\\sum_{i=1}^{n}\\delta_{x_{k}^{(i)},p}\\delta_{y^{(i)},q}}{\\sum_{i=1}^{n}\\delta_{y^{(i)},q}}\n",
    "$$\n",
    "$$\n",
    "p(y=q) = \\frac{\\sum_{i=1}^{n}\\delta_{y^{(i)},q}}{n} \n",
    "$$"
   ]
  },
  {
   "cell_type": "markdown",
   "metadata": {},
   "source": [
    "<h3>1.2 Bayesian inference</h3>"
   ]
  },
  {
   "cell_type": "markdown",
   "metadata": {},
   "source": [
    "$$\n",
    "p(y = s| \\vec{x}) = \\frac{p(\\vec{x}|y=s)p(y=s)}{p(\\vec{x})} = \n",
    "\\frac{\\prod_{k=1}^{d}p(x_{k}|y=s)p(y=s)}{\\sum_{s' = 1}^{K}p(\\vec{x},y = s')} =\n",
    "$$\n",
    "$$\n",
    "=\\frac{\\prod_{k=1}^{d}p(x_{k}|y=s)p(y=s)}{\\sum_{s' = 1}^{K}\\prod_{k=1}^{d}p(x_{k}|y = s')p(y = s')}\n",
    "$$"
   ]
  },
  {
   "cell_type": "markdown",
   "metadata": {},
   "source": [
    "<h3>1.3 Laplace smoothing</h3>"
   ]
  },
  {
   "cell_type": "markdown",
   "metadata": {},
   "source": [
    "The real problem arises if in our test set there is a feature that hasn't been included in our training set. Then the conditional probability is equal to $0/0$. In order to address this issue, one should apply **Laplace smoothing**, which means that the conditional probability should be calculated as following:\n",
    "\n",
    "$$\n",
    "p(x_{k} = p|y = q) = \\frac{1 + \\sum_{i=1}^{n}\\delta_{x_{k}^{(i)},p}\\delta_{y^{(i)},q}}{K_{k}+\\sum_{i=1}^{n}\\delta_{y^{(i)},q}}\n",
    "$$\n",
    "where $K_{k}$ is the number of possible values of $x_{k}$\n",
    "$$\n",
    "p(y=q) = \\frac{1+\\sum_{i=1}^{n}\\delta_{y^{(i)},q}}{C + n} \n",
    "$$\n",
    "where $q\\in\\{1,\\ldots, C\\}$"
   ]
  },
  {
   "cell_type": "markdown",
   "metadata": {},
   "source": [
    "<h2>2. Implementation</h2>"
   ]
  },
  {
   "cell_type": "markdown",
   "metadata": {},
   "source": [
    "<h3>2.1 Steps of implementation</h3>"
   ]
  },
  {
   "cell_type": "markdown",
   "metadata": {},
   "source": [
    "- For given data set, which is 2-dim array of shape $(n,d)$, obtain distinct values of each columns and evaluate the value of $K_{k}$.\n",
    "- For each possible $p,q$ and $k$, calculate $p(x_{k}=p|y = q)$ using Laplace smoothing, which is 3-dim array\n",
    "- For each possible $q$, calculate $p(y = q)$ using Laplace Smoothing.\n",
    "- After fitting procedure, if you are given input vector $\\vec{x}$, calculate $p(y = s| \\vec{x}) $"
   ]
  },
  {
   "cell_type": "markdown",
   "metadata": {},
   "source": [
    "<h3>2.2 Code</h3>"
   ]
  },
  {
   "cell_type": "code",
   "execution_count": 2,
   "metadata": {},
   "outputs": [],
   "source": [
    "class NaiveBayesCl:\n",
    "    def __init__(self):\n",
    "        pass\n",
    "\n",
    "    def Prepare_data_set(self,X_data,y_data):\n",
    "        raise NotImplementedError\n",
    "\n",
    "    def fit(self,X_data,y_data):\n",
    "        raise NotImplementedError\n",
    "    \n",
    "    def predict(self,X_data):\n",
    "        raise NotImplementedError\n"
   ]
  },
  {
   "cell_type": "code",
   "execution_count": 3,
   "metadata": {},
   "outputs": [],
   "source": [
    "@add_to_class(NaiveBayesCl)\n",
    "def Prepare_data_set(self,X_data,y_data):\n",
    "    self.Classes = [np.unique(X_data[:,i]) for i in range(X_data.shape[1])]\n",
    "    self.Kks = [len(self.Classes[i]) for i in range(len(self.Classes))]\n",
    "    self.y_Classes = np.unique(y_data)\n",
    "    self.y_Kks = len(self.y_Classes)\n",
    "\n",
    "@add_to_class(NaiveBayesCl)\n",
    "def fit(self,X_train,y_train):\n",
    "    mess =  f\"Attributes Classes, y_Classes, Kks, y_Kks do not exist. You have to Prepare data first by running obj_name.Prepare_data_set\"\n",
    "    assert hasattr(self,\"Classes\") and hasattr(self,\"y_Classes\") and hasattr(self,\"Kks\") and hasattr(self,\"y_Kks\"), mess\n",
    "\n",
    "    if len(X_train.shape) > 1:\n",
    "        self.n,self.d = X_train.shape\n",
    "    else:\n",
    "        self.n = X_train.shape[0]\n",
    "        self.d = 1\n",
    "\n",
    "    d_q = (y_train[:,np.newaxis] == self.y_Classes[np.newaxis,:])\n",
    "\n",
    "    p_kpq = []\n",
    "    for k in range(self.d):\n",
    "        X_temp = X_train[:,k]\n",
    "        d_p = (X_temp[:,np.newaxis] == self.Classes[k][np.newaxis,:])\n",
    "        sum_d = np.sum(d_p[:,:,np.newaxis] * d_q[:,np.newaxis,:],axis = 0)\n",
    "        p_kpq.append((1+sum_d)/(self.Kks[k] + np.sum(d_q,axis = 0)))\n",
    "\n",
    "    p_p = (1+ np.sum(d_q,axis = 0)) / (self.n + self.y_Kks)\n",
    "\n",
    "    self.p_y = p_p\n",
    "    self.p_cond = p_kpq\n",
    "\n",
    "\n",
    "@add_to_class(NaiveBayesCl)\n",
    "def predict(self,X_data):\n",
    "    mess =  f\"Attributes p_y,p_cond do not exist. You have to fit model to the data first by running obj_name.fit\"\n",
    "    assert hasattr(self,\"p_y\") and hasattr(self,\"p_cond\"), mess\n",
    "\n",
    "    prod_ = 1\n",
    "    for i in range(X_data.shape[1]):\n",
    "        prod_ *= self.p_cond[i][X_data[:,i],:]\n",
    "    \n",
    "    #return np.argmax(self.p_y * prod_ / np.sum((self.p_y * prod_)[:,np.newaxis],axis = 1),axis = 1)\n",
    "    return np.argmax(self.p_y * prod_ / np.sum((self.p_y * prod_),axis = 1)[:,np.newaxis],axis = 1)"
   ]
  },
  {
   "cell_type": "markdown",
   "metadata": {},
   "source": [
    "<h3>2.3 Naive Bayes for simple classification</h3>"
   ]
  },
  {
   "cell_type": "code",
   "execution_count": 4,
   "metadata": {},
   "outputs": [],
   "source": [
    "from pandas import concat\n",
    "\n",
    "wether = np.array([\"sunny\",\"cloudy\",\"mid\"])"
   ]
  },
  {
   "cell_type": "code",
   "execution_count": 5,
   "metadata": {},
   "outputs": [
    {
     "data": {
      "text/html": [
       "<div>\n",
       "<style scoped>\n",
       "    .dataframe tbody tr th:only-of-type {\n",
       "        vertical-align: middle;\n",
       "    }\n",
       "\n",
       "    .dataframe tbody tr th {\n",
       "        vertical-align: top;\n",
       "    }\n",
       "\n",
       "    .dataframe thead th {\n",
       "        text-align: right;\n",
       "    }\n",
       "</style>\n",
       "<table border=\"1\" class=\"dataframe\">\n",
       "  <thead>\n",
       "    <tr style=\"text-align: right;\">\n",
       "      <th></th>\n",
       "      <th>temp</th>\n",
       "      <th>wether</th>\n",
       "      <th>humidity</th>\n",
       "      <th>season</th>\n",
       "    </tr>\n",
       "  </thead>\n",
       "  <tbody>\n",
       "    <tr>\n",
       "      <th>0</th>\n",
       "      <td>9.772735</td>\n",
       "      <td>mid</td>\n",
       "      <td>0.257030</td>\n",
       "      <td>spring</td>\n",
       "    </tr>\n",
       "    <tr>\n",
       "      <th>1</th>\n",
       "      <td>3.546117</td>\n",
       "      <td>cloudy</td>\n",
       "      <td>-0.096391</td>\n",
       "      <td>spring</td>\n",
       "    </tr>\n",
       "    <tr>\n",
       "      <th>2</th>\n",
       "      <td>5.212567</td>\n",
       "      <td>mid</td>\n",
       "      <td>0.240560</td>\n",
       "      <td>winter</td>\n",
       "    </tr>\n",
       "    <tr>\n",
       "      <th>3</th>\n",
       "      <td>13.552251</td>\n",
       "      <td>cloudy</td>\n",
       "      <td>0.287273</td>\n",
       "      <td>summer</td>\n",
       "    </tr>\n",
       "    <tr>\n",
       "      <th>4</th>\n",
       "      <td>5.968957</td>\n",
       "      <td>mid</td>\n",
       "      <td>0.749679</td>\n",
       "      <td>spring</td>\n",
       "    </tr>\n",
       "    <tr>\n",
       "      <th>5</th>\n",
       "      <td>7.847138</td>\n",
       "      <td>cloudy</td>\n",
       "      <td>0.226682</td>\n",
       "      <td>summer</td>\n",
       "    </tr>\n",
       "    <tr>\n",
       "      <th>6</th>\n",
       "      <td>22.048891</td>\n",
       "      <td>mid</td>\n",
       "      <td>0.869479</td>\n",
       "      <td>autumn</td>\n",
       "    </tr>\n",
       "    <tr>\n",
       "      <th>7</th>\n",
       "      <td>22.608883</td>\n",
       "      <td>mid</td>\n",
       "      <td>0.864607</td>\n",
       "      <td>autumn</td>\n",
       "    </tr>\n",
       "  </tbody>\n",
       "</table>\n",
       "</div>"
      ],
      "text/plain": [
       "        temp  wether  humidity  season\n",
       "0   9.772735     mid  0.257030  spring\n",
       "1   3.546117  cloudy -0.096391  spring\n",
       "2   5.212567     mid  0.240560  winter\n",
       "3  13.552251  cloudy  0.287273  summer\n",
       "4   5.968957     mid  0.749679  spring\n",
       "5   7.847138  cloudy  0.226682  summer\n",
       "6  22.048891     mid  0.869479  autumn\n",
       "7  22.608883     mid  0.864607  autumn"
      ]
     },
     "execution_count": 5,
     "metadata": {},
     "output_type": "execute_result"
    }
   ],
   "source": [
    "rng = np.random.default_rng(42)\n",
    "\n",
    "numbers = [135,127,154,121]\n",
    "avg_temp = [0,9,16,21]\n",
    "std_temp = [5,6,5,3]\n",
    "avg_humid = [0.5,0.5,0.1,0.9]\n",
    "std_humid = [0.4,0.3,0.2,0.1]\n",
    "seasons = [\"winter\",\"spring\",\"summer\",\"autumn\"]\n",
    "\n",
    "def get_season_data(avg_temp,std_temp,avg_humid,std_humid,size,season,seed = 42):\n",
    "    rng = np.random.default_rng(seed)\n",
    "    return {\n",
    "        \"temp\" : rng.normal(loc = avg_temp,scale = std_temp,size = size),\n",
    "        \"wether\" : wether[rng.integers(len(wether),size = size)],\n",
    "        \"humidity\" : rng.normal(loc = avg_humid,scale = std_humid,size = size),\n",
    "        \"season\" : season\n",
    "    }\n",
    "\n",
    "season_frames = [DataFrame(get_season_data(avg_temp[i],std_temp[i],avg_humid[i],std_humid[i],numbers[i],seasons[i],seed = i * 10)) for i in range(len(numbers))]\n",
    "df = concat(season_frames).sample(frac = 1).reset_index(drop = True)\n",
    "\n",
    "df[:8]"
   ]
  },
  {
   "cell_type": "code",
   "execution_count": 6,
   "metadata": {},
   "outputs": [
    {
     "data": {
      "text/html": [
       "<div>\n",
       "<style scoped>\n",
       "    .dataframe tbody tr th:only-of-type {\n",
       "        vertical-align: middle;\n",
       "    }\n",
       "\n",
       "    .dataframe tbody tr th {\n",
       "        vertical-align: top;\n",
       "    }\n",
       "\n",
       "    .dataframe thead th {\n",
       "        text-align: right;\n",
       "    }\n",
       "</style>\n",
       "<table border=\"1\" class=\"dataframe\">\n",
       "  <thead>\n",
       "    <tr style=\"text-align: right;\">\n",
       "      <th></th>\n",
       "      <th>temp</th>\n",
       "      <th>wether</th>\n",
       "      <th>humidity</th>\n",
       "    </tr>\n",
       "  </thead>\n",
       "  <tbody>\n",
       "    <tr>\n",
       "      <th>0</th>\n",
       "      <td>1</td>\n",
       "      <td>2</td>\n",
       "      <td>0</td>\n",
       "    </tr>\n",
       "    <tr>\n",
       "      <th>1</th>\n",
       "      <td>0</td>\n",
       "      <td>1</td>\n",
       "      <td>0</td>\n",
       "    </tr>\n",
       "    <tr>\n",
       "      <th>2</th>\n",
       "      <td>1</td>\n",
       "      <td>2</td>\n",
       "      <td>0</td>\n",
       "    </tr>\n",
       "    <tr>\n",
       "      <th>3</th>\n",
       "      <td>2</td>\n",
       "      <td>1</td>\n",
       "      <td>0</td>\n",
       "    </tr>\n",
       "    <tr>\n",
       "      <th>4</th>\n",
       "      <td>1</td>\n",
       "      <td>2</td>\n",
       "      <td>2</td>\n",
       "    </tr>\n",
       "    <tr>\n",
       "      <th>5</th>\n",
       "      <td>1</td>\n",
       "      <td>1</td>\n",
       "      <td>0</td>\n",
       "    </tr>\n",
       "    <tr>\n",
       "      <th>6</th>\n",
       "      <td>3</td>\n",
       "      <td>2</td>\n",
       "      <td>2</td>\n",
       "    </tr>\n",
       "    <tr>\n",
       "      <th>7</th>\n",
       "      <td>3</td>\n",
       "      <td>2</td>\n",
       "      <td>2</td>\n",
       "    </tr>\n",
       "  </tbody>\n",
       "</table>\n",
       "</div>"
      ],
      "text/plain": [
       "   temp  wether  humidity\n",
       "0     1       2         0\n",
       "1     0       1         0\n",
       "2     1       2         0\n",
       "3     2       1         0\n",
       "4     1       2         2\n",
       "5     1       1         0\n",
       "6     3       2         2\n",
       "7     3       2         2"
      ]
     },
     "execution_count": 6,
     "metadata": {},
     "output_type": "execute_result"
    }
   ],
   "source": [
    "mod_df = DataFrame({\n",
    "    \"temp\" : df[\"temp\"].apply(lambda x : 0 if x < 5 else ( 1 if (x < 10) and (x >= 5) else ( 2 if (x < 15) and (x >= 10) else 3))),\n",
    "    \"wether\" : df[\"wether\"].apply(lambda x : 0 if x == \"sunny\" else (1 if x == \"cloudy\" else 2)),\n",
    "    \"humidity\" : df[\"humidity\"].apply(lambda x : 0 if x < 0.3 else(1 if (x >= 0.3 and x < 0.6) else 2))\n",
    "    })\n",
    "\n",
    "mod_y = DataFrame({\n",
    "    \"season\" : df[\"season\"].apply(lambda x : 0 if x == \"winter\" else (1 if x == \"spring\" else (2 if x == \"summer\" else 3)))\n",
    "}) \n",
    "\n",
    "mod_df[:8]"
   ]
  },
  {
   "cell_type": "code",
   "execution_count": 7,
   "metadata": {},
   "outputs": [
    {
     "data": {
      "text/html": [
       "<div>\n",
       "<style scoped>\n",
       "    .dataframe tbody tr th:only-of-type {\n",
       "        vertical-align: middle;\n",
       "    }\n",
       "\n",
       "    .dataframe tbody tr th {\n",
       "        vertical-align: top;\n",
       "    }\n",
       "\n",
       "    .dataframe thead th {\n",
       "        text-align: right;\n",
       "    }\n",
       "</style>\n",
       "<table border=\"1\" class=\"dataframe\">\n",
       "  <thead>\n",
       "    <tr style=\"text-align: right;\">\n",
       "      <th></th>\n",
       "      <th>season</th>\n",
       "    </tr>\n",
       "  </thead>\n",
       "  <tbody>\n",
       "    <tr>\n",
       "      <th>0</th>\n",
       "      <td>1</td>\n",
       "    </tr>\n",
       "    <tr>\n",
       "      <th>1</th>\n",
       "      <td>1</td>\n",
       "    </tr>\n",
       "    <tr>\n",
       "      <th>2</th>\n",
       "      <td>0</td>\n",
       "    </tr>\n",
       "    <tr>\n",
       "      <th>3</th>\n",
       "      <td>2</td>\n",
       "    </tr>\n",
       "    <tr>\n",
       "      <th>4</th>\n",
       "      <td>1</td>\n",
       "    </tr>\n",
       "    <tr>\n",
       "      <th>5</th>\n",
       "      <td>2</td>\n",
       "    </tr>\n",
       "    <tr>\n",
       "      <th>6</th>\n",
       "      <td>3</td>\n",
       "    </tr>\n",
       "    <tr>\n",
       "      <th>7</th>\n",
       "      <td>3</td>\n",
       "    </tr>\n",
       "  </tbody>\n",
       "</table>\n",
       "</div>"
      ],
      "text/plain": [
       "   season\n",
       "0       1\n",
       "1       1\n",
       "2       0\n",
       "3       2\n",
       "4       1\n",
       "5       2\n",
       "6       3\n",
       "7       3"
      ]
     },
     "execution_count": 7,
     "metadata": {},
     "output_type": "execute_result"
    }
   ],
   "source": [
    "mod_y[:8]"
   ]
  },
  {
   "cell_type": "code",
   "execution_count": 8,
   "metadata": {},
   "outputs": [],
   "source": [
    "X_data = mod_df.to_numpy()\n",
    "y_data = mod_y.to_numpy().flatten()"
   ]
  },
  {
   "cell_type": "code",
   "execution_count": 9,
   "metadata": {},
   "outputs": [],
   "source": [
    "from sklearn.model_selection import train_test_split\n",
    "\n",
    "X_train,X_test,y_train,y_test = train_test_split(X_data,y_data,train_size=0.7)\n",
    "\n",
    "model = NaiveBayesCl()\n",
    "model.Prepare_data_set(X_data,y_data)\n",
    "model.fit(X_train,y_train)\n",
    "\n",
    "y_pred = model.predict(X_test)"
   ]
  },
  {
   "cell_type": "code",
   "execution_count": 10,
   "metadata": {},
   "outputs": [
    {
     "name": "stdout",
     "output_type": "stream",
     "text": [
      "y_pred : [2 1 3 2 0 2 2 1 2 0 3 2 2 3 0 2 1 2 2 1 2 3 0 2 2 1 3 3 0 2 2 2 3 2 3 3 2\n",
      " 3 1 2 0 1 1 3 0 0 0 3 1 0 2 3 0 2 3 0 0 2 3 1 0 2 3 3 3 1 3 1 2 0 0 2 1 1\n",
      " 2 1 3 2 3 1 0 1 1 1 3 1 0 3 3 0 2 2 0 2 0 2 0 3 1 3 0 0 0 3 2 3 0 0 2 0 2\n",
      " 1 0 2 1 1 0 2 0 2 3 0 2 2 1 2 1 2 1 3 2 0 0 1 0 1 2 2 2 2 3 3 1 3 0 2 0 3\n",
      " 0 3 2 3 0 3 0 2 2 2 0 0 0 0]\n",
      "y_test : [2 1 3 2 0 2 1 0 2 0 3 0 2 3 0 2 1 2 2 0 2 3 0 0 1 1 3 3 0 2 2 2 1 2 3 3 2\n",
      " 1 1 2 0 0 0 3 0 0 2 3 1 1 2 3 1 2 3 0 0 2 3 1 0 2 3 3 3 1 3 1 2 1 0 1 1 2\n",
      " 2 1 3 1 3 1 0 1 1 1 3 1 0 3 3 1 2 3 1 2 0 2 0 3 1 3 2 0 1 3 2 3 0 1 2 0 2\n",
      " 1 0 2 1 1 0 1 1 1 3 0 2 2 1 2 1 2 1 3 2 2 0 1 2 1 1 2 2 2 3 3 1 3 0 0 0 3\n",
      " 0 1 1 2 0 3 0 2 2 2 0 0 0 1]\n"
     ]
    }
   ],
   "source": [
    "print(f\"y_pred : {y_pred}\"+ \"\\n\" +f\"y_test : {y_test}\")"
   ]
  },
  {
   "cell_type": "code",
   "execution_count": 11,
   "metadata": {},
   "outputs": [
    {
     "name": "stdout",
     "output_type": "stream",
     "text": [
      "accuracy: 0.7901234567901234\n"
     ]
    }
   ],
   "source": [
    "print(f\"accuracy: {(y_pred == y_test).sum()/len(y_pred)}\")"
   ]
  },
  {
   "cell_type": "code",
   "execution_count": 12,
   "metadata": {},
   "outputs": [
    {
     "data": {
      "image/png": "[encoded data removed]",
      "text/plain": [
       "<Figure size 500x400 with 2 Axes>"
      ]
     },
     "metadata": {},
     "output_type": "display_data"
    }
   ],
   "source": [
    "from sklearn.metrics import confusion_matrix\n",
    "\n",
    "fig = plt.figure(figsize = (5,4),facecolor=\"white\")\n",
    "ax = fig.add_subplot()\n",
    "\n",
    "cm = confusion_matrix(y_pred,y_test)\n",
    "im = ax.imshow(cm,origin = \"lower\",alpha = 0.7,cmap=\"viridis\")\n",
    "\n",
    "m,n = cm.shape\n",
    "for i in range(m):\n",
    "    for j in range(n):\n",
    "        percent = np.round((cm[j,i] / cm[j,:].sum()),3)\n",
    "        ax.text(i,j,percent,color = \"black\",ha = \"center\",va = \"center\")\n",
    "\n",
    "ax.set_title(\"confusion matrix\\n(rows are true labels columns are predicted)\",color = \"black\")\n",
    "ax.set_xticks([0,1,2,3],seasons,color = \"black\")\n",
    "ax.set_yticks([0,1,2,3],seasons,color = \"black\")\n",
    "fig.colorbar(im,ax=ax)\n",
    "plt.tight_layout()\n",
    "plt.show()"
   ]
  },
  {
   "cell_type": "code",
   "execution_count": 13,
   "metadata": {},
   "outputs": [],
   "source": [
    "from sklearn.naive_bayes import BernoulliNB\n",
    "from sklearn.metrics import accuracy_score"
   ]
  },
  {
   "cell_type": "code",
   "execution_count": 14,
   "metadata": {},
   "outputs": [
    {
     "name": "stdout",
     "output_type": "stream",
     "text": [
      "accuracy: 0.6234567901234568\n"
     ]
    }
   ],
   "source": [
    "nb = BernoulliNB().fit(X_train,y_train)\n",
    "y_pred = nb.predict(X_test)\n",
    "print(f\"accuracy: {(y_pred == y_test).sum()/len(y_pred)}\")\n"
   ]
  }
 ],
 "metadata": {
  "kernelspec": {
   "display_name": "venv",
   "language": "python",
   "name": "python3"
  },
  "language_info": {
   "codemirror_mode": {
    "name": "ipython",
    "version": 3
   },
   "file_extension": ".py",
   "mimetype": "text/x-python",
   "name": "python",
   "nbconvert_exporter": "python",
   "pygments_lexer": "ipython3",
   "version": "3.12.4"
  }
 },
 "nbformat": 4,
 "nbformat_minor": 2
}
